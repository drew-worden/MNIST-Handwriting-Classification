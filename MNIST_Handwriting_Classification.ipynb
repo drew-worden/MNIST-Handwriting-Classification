{
  "nbformat": 4,
  "nbformat_minor": 0,
  "metadata": {
    "colab": {
      "name": "MNIST Handwriting Classification.ipynb",
      "provenance": []
    },
    "kernelspec": {
      "name": "python3",
      "display_name": "Python 3"
    }
  },
  "cells": [
    {
      "cell_type": "markdown",
      "metadata": {
        "id": "aFNEDDarwNLP"
      },
      "source": [
        "# MNIST Handwriting Classification Using Keras and TensorFlow"
      ]
    },
    {
      "cell_type": "markdown",
      "metadata": {
        "id": "NOsZLcvkw2z2"
      },
      "source": [
        "## Import Python Packages"
      ]
    },
    {
      "cell_type": "code",
      "metadata": {
        "id": "OEgnAWQWwgXx"
      },
      "source": [
        "#TensorFlow\n",
        "import tensorflow as tf\n",
        "\n",
        "#MatPlotLib\n",
        "import matplotlib.pyplot as plt\n",
        "\n",
        "#Keras Modules\n",
        "from tensorflow.keras.models import Sequential\n",
        "from tensorflow.keras.layers import Dense, Conv2D, Dropout, Flatten, MaxPool2D"
      ],
      "execution_count": 16,
      "outputs": []
    },
    {
      "cell_type": "markdown",
      "metadata": {
        "id": "7SEKGmzZxAdS"
      },
      "source": [
        "## Import MNIST Dataset"
      ]
    },
    {
      "cell_type": "code",
      "metadata": {
        "id": "PMOaPutlw8_J"
      },
      "source": [
        "(x_train, y_train), (x_test, y_test) = tf.keras.datasets.mnist.load_data()"
      ],
      "execution_count": 17,
      "outputs": []
    },
    {
      "cell_type": "markdown",
      "metadata": {
        "id": "9LDz2XAgx6Gz"
      },
      "source": [
        "## Looking at Image from Dataset"
      ]
    },
    {
      "cell_type": "code",
      "metadata": {
        "id": "d2kjeQ3XxQcq",
        "outputId": "41ceadc6-c9d8-4c28-a89b-4ce07fd57968",
        "colab": {
          "base_uri": "https://localhost:8080/",
          "height": 299
        }
      },
      "source": [
        "test_image = 0\n",
        "print(y_train[test_image])\n",
        "plt.imshow(x_train[test_image], cmap=\"Greys\")"
      ],
      "execution_count": 18,
      "outputs": [
        {
          "output_type": "stream",
          "text": [
            "5\n"
          ],
          "name": "stdout"
        },
        {
          "output_type": "execute_result",
          "data": {
            "text/plain": [
              "<matplotlib.image.AxesImage at 0x7f00f2acdfd0>"
            ]
          },
          "metadata": {
            "tags": []
          },
          "execution_count": 18
        },
        {
          "output_type": "display_data",
          "data": {
            "image/png": "[encoded data removed]",
            "text/plain": [
              "<Figure size 432x288 with 1 Axes>"
            ]
          },
          "metadata": {
            "tags": [],
            "needs_background": "light"
          }
        }
      ]
    },
    {
      "cell_type": "markdown",
      "metadata": {
        "id": "buCSRr3kyeDQ"
      },
      "source": [
        "## Looking at the Shape of MNIST and Subsets"
      ]
    },
    {
      "cell_type": "code",
      "metadata": {
        "id": "7PjgXEbPyJ1F",
        "outputId": "1b0ea3ab-3529-4227-f20f-439bcc911ed4",
        "colab": {
          "base_uri": "https://localhost:8080/",
          "height": 85
        }
      },
      "source": [
        "print(\"X Train\", x_train.shape)\n",
        "print(\"Y Train\", y_train.shape)\n",
        "print(\"X Test\", x_test.shape)\n",
        "print(\"Y Test\", y_test.shape)"
      ],
      "execution_count": 19,
      "outputs": [
        {
          "output_type": "stream",
          "text": [
            "X Train (60000, 28, 28)\n",
            "Y Train (60000,)\n",
            "X Test (10000, 28, 28)\n",
            "Y Test (10000,)\n"
          ],
          "name": "stdout"
        }
      ]
    },
    {
      "cell_type": "code",
      "metadata": {
        "id": "aauxgHPMyn1h"
      },
      "source": [
        ""
      ],
      "execution_count": 19,
      "outputs": []
    },
    {
      "cell_type": "markdown",
      "metadata": {
        "id": "Rhw1927dy_cX"
      },
      "source": [
        "## Normalize RGB Values"
      ]
    },
    {
      "cell_type": "code",
      "metadata": {
        "id": "E7xLy_IMzB0O",
        "outputId": "530c2d42-d453-40eb-fc36-987230264167",
        "colab": {
          "base_uri": "https://localhost:8080/",
          "height": 51
        }
      },
      "source": [
        "x_train = x_train.reshape(x_train.shape[0], 28, 28, 1)\n",
        "x_test = x_test.reshape(x_test.shape[0], 28, 28, 1)\n",
        "\n",
        "input_shape = (28, 28, 1)\n",
        "\n",
        "x_train = x_train.astype(\"float32\")\n",
        "x_test = x_test.astype(\"float32\")\n",
        "\n",
        "x_train /= 255\n",
        "x_test /= 255\n",
        "\n",
        "print(x_train.shape)\n",
        "print(x_test.shape)\n"
      ],
      "execution_count": 20,
      "outputs": [
        {
          "output_type": "stream",
          "text": [
            "(60000, 28, 28, 1)\n",
            "(10000, 28, 28, 1)\n"
          ],
          "name": "stdout"
        }
      ]
    },
    {
      "cell_type": "markdown",
      "metadata": {
        "id": "dyr-jD8z0NsG"
      },
      "source": [
        "## Building the Neural Network"
      ]
    },
    {
      "cell_type": "code",
      "metadata": {
        "id": "1lmm6EIDzkvQ"
      },
      "source": [
        "model = Sequential()\n",
        "\n",
        "model.add(Conv2D(28, kernel_size = (3,3), input_shape = input_shape))\n",
        "model.add(MaxPool2D(pool_size = (2,2)))\n",
        "model.add(Flatten())\n",
        "model.add(Dense(128, activation = tf.nn.relu))\n",
        "model.add(Dropout(0.2))\n",
        "model.add(Dense(10, activation = tf.nn.softmax))"
      ],
      "execution_count": 23,
      "outputs": []
    },
    {
      "cell_type": "markdown",
      "metadata": {
        "id": "QMJlgWp11WH4"
      },
      "source": [
        "## Compiling & Fitting the NN"
      ]
    },
    {
      "cell_type": "code",
      "metadata": {
        "id": "_JFKhIeh0pnD",
        "outputId": "089e57ef-8865-4a90-8a5d-9efb97563fdf",
        "colab": {
          "base_uri": "https://localhost:8080/",
          "height": 374
        }
      },
      "source": [
        "model.compile(optimizer = \"adam\", loss = \"sparse_categorical_crossentropy\", metrics = [\"accuracy\"])\n",
        "model.fit(x = x_train, y = y_train, epochs = 10)"
      ],
      "execution_count": 25,
      "outputs": [
        {
          "output_type": "stream",
          "text": [
            "Epoch 1/10\n",
            "1875/1875 [==============================] - 26s 14ms/step - loss: 0.2015 - accuracy: 0.9391\n",
            "Epoch 2/10\n",
            "1875/1875 [==============================] - 26s 14ms/step - loss: 0.0797 - accuracy: 0.9750\n",
            "Epoch 3/10\n",
            "1875/1875 [==============================] - 26s 14ms/step - loss: 0.0566 - accuracy: 0.9824\n",
            "Epoch 4/10\n",
            "1875/1875 [==============================] - 26s 14ms/step - loss: 0.0423 - accuracy: 0.9863\n",
            "Epoch 5/10\n",
            "1875/1875 [==============================] - 26s 14ms/step - loss: 0.0363 - accuracy: 0.9884\n",
            "Epoch 6/10\n",
            "1875/1875 [==============================] - 26s 14ms/step - loss: 0.0289 - accuracy: 0.9902\n",
            "Epoch 7/10\n",
            "1875/1875 [==============================] - 26s 14ms/step - loss: 0.0257 - accuracy: 0.9915\n",
            "Epoch 8/10\n",
            "1875/1875 [==============================] - 26s 14ms/step - loss: 0.0220 - accuracy: 0.9924\n",
            "Epoch 9/10\n",
            "1875/1875 [==============================] - 26s 14ms/step - loss: 0.0173 - accuracy: 0.9942\n",
            "Epoch 10/10\n",
            "1875/1875 [==============================] - 26s 14ms/step - loss: 0.0201 - accuracy: 0.9931\n"
          ],
          "name": "stdout"
        },
        {
          "output_type": "execute_result",
          "data": {
            "text/plain": [
              "<tensorflow.python.keras.callbacks.History at 0x7f00ec194780>"
            ]
          },
          "metadata": {
            "tags": []
          },
          "execution_count": 25
        }
      ]
    },
    {
      "cell_type": "code",
      "metadata": {
        "id": "9IYMrC5u1tb5"
      },
      "source": [
        ""
      ],
      "execution_count": null,
      "outputs": []
    },
    {
      "cell_type": "markdown",
      "metadata": {
        "id": "yQHvG7692x0l"
      },
      "source": [
        "## Evaluating the Model"
      ]
    },
    {
      "cell_type": "code",
      "metadata": {
        "id": "a6VsUpaP2ziE",
        "outputId": "2e47af4d-55cf-4bab-d518-967282885d87",
        "colab": {
          "base_uri": "https://localhost:8080/",
          "height": 51
        }
      },
      "source": [
        "model.evaluate(x_test, y_test)"
      ],
      "execution_count": 26,
      "outputs": [
        {
          "output_type": "stream",
          "text": [
            "313/313 [==============================] - 2s 5ms/step - loss: 0.0649 - accuracy: 0.9847\n"
          ],
          "name": "stdout"
        },
        {
          "output_type": "execute_result",
          "data": {
            "text/plain": [
              "[0.06489630043506622, 0.9847000241279602]"
            ]
          },
          "metadata": {
            "tags": []
          },
          "execution_count": 26
        }
      ]
    },
    {
      "cell_type": "markdown",
      "metadata": {
        "id": "5unMZJm4277P"
      },
      "source": [
        "98.5% Accuracy"
      ]
    },
    {
      "cell_type": "markdown",
      "metadata": {
        "id": "kEFL5XXj3HCk"
      },
      "source": [
        "## Trying it Out"
      ]
    },
    {
      "cell_type": "code",
      "metadata": {
        "id": "MHoa4mTE22XN",
        "outputId": "5141f7ba-c5fd-46d9-f6a4-d40a3335528c",
        "colab": {
          "base_uri": "https://localhost:8080/",
          "height": 282
        }
      },
      "source": [
        "image_index = 0\n",
        "plt.imshow(x_test[i].reshape(28, 28), cmap = \"Greys\")\n",
        "prediction = model.predict(x_test[i].reshape(1, 28, 28, 1))\n",
        "print(prediction.argmax())"
      ],
      "execution_count": 33,
      "outputs": [
        {
          "output_type": "stream",
          "text": [
            "9\n"
          ],
          "name": "stdout"
        },
        {
          "output_type": "display_data",
          "data": {
            "image/png": "[encoded data removed]",
            "text/plain": [
              "<Figure size 432x288 with 1 Axes>"
            ]
          },
          "metadata": {
            "tags": [],
            "needs_background": "light"
          }
        }
      ]
    },
    {
      "cell_type": "markdown",
      "metadata": {
        "id": "CIsWiexb4GmT"
      },
      "source": [
        "## Conclusion\n",
        "\n",
        "Our model works! We have successfully built a convolutional neural network to classify handwritten digits with TensorFlow's Keras API. The accuracy achieved was 98% with 10 epochs. This wouldn't be sufficient for applications such as autonomous vehicles, but for our purposes it work just fine."
      ]
    }
  ]
}